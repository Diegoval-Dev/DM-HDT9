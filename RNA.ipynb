{
 "cells": [
  {
   "cell_type": "markdown",
   "id": "eaa4b562",
   "metadata": {},
   "source": [
    "# Hoja de trabajo 9 Redes Neuronales Artificiales\n",
    "\n",
    "repo: https://github.com/Diegoval-Dev/DM-HDT9\n",
    "- Gerson Ramirez - 22281\n",
    "- Diego Valenzuela - 22309"
   ]
  },
  {
   "cell_type": "markdown",
   "id": "2ad46f20",
   "metadata": {},
   "source": [
    "## Introducción: Preparación del conjunto de datos y definición de variable respuesta\n",
    "\n",
    "En esta primera sección, trabajaremos con el mismo conjunto de datos de entrenamiento y prueba utilizado en las entregas anteriores, correspondiente al proyecto de predicción de precios de viviendas para InmoValor S.A. \n",
    "\n",
    "Seleccionaremos como variable objetivo la clasificación categórica del precio de las casas, que agrupa las propiedades en tres categorías: \"Barata\", \"Media\" y \"Cara\". Esta variable fue creada previamente a partir del precio de venta (`SalePrice`) y será utilizada en la construcción de modelos de redes neuronales para tareas de clasificación.\n",
    "\n",
    "Esta fase de preparación es fundamental, ya que asegura la coherencia y comparabilidad de resultados con los modelos previamente desarrollados como árboles de decisión, KNN, Naive Bayes, SVM, entre otros. \n",
    "La correcta definición de la variable respuesta permitirá evaluar adecuadamente el desempeño de las redes neuronales en relación con otros algoritmos explorados anteriormente.\n",
    "\n",
    "En el siguiente bloque de código cargaremos los datos procesados y seleccionaremos las variables correspondientes para iniciar la modelación.\n"
   ]
  },
  {
   "cell_type": "code",
   "execution_count": 3,
   "id": "bda62494",
   "metadata": {},
   "outputs": [
    {
     "name": "stdout",
     "output_type": "stream",
     "text": [
      "Dimensiones del dataset: (1460, 77)\n",
      "Dimensiones del conjunto de entrenamiento: (1168, 75)\n",
      "Dimensiones del conjunto de prueba: (292, 75)\n"
     ]
    },
    {
     "data": {
      "text/plain": [
       "(Intermedia    0.335616\n",
       " Economica     0.333904\n",
       " Cara          0.330479\n",
       " Name: PriceCategory, dtype: float64,\n",
       " Intermedia    0.335616\n",
       " Cara          0.332192\n",
       " Economica     0.332192\n",
       " Name: PriceCategory, dtype: float64)"
      ]
     },
     "execution_count": 3,
     "metadata": {},
     "output_type": "execute_result"
    }
   ],
   "source": [
    "import pandas as pd\n",
    "import numpy as np\n",
    "\n",
    "df = pd.read_csv(\"processed_data.csv\")\n",
    "\n",
    "print(f\"Dimensiones del dataset: {df.shape}\")\n",
    "df.head()\n",
    "\n",
    "X = df.drop(columns=['SalePrice', 'PriceCategory'])\n",
    "y = df['PriceCategory']\n",
    "\n",
    "from sklearn.model_selection import train_test_split\n",
    "X_train, X_test, y_train, y_test = train_test_split(X, y, test_size=0.2, random_state=42, stratify=y)\n",
    "\n",
    "print(f\"Dimensiones del conjunto de entrenamiento: {X_train.shape}\")\n",
    "print(f\"Dimensiones del conjunto de prueba: {X_test.shape}\")\n",
    "y_train.value_counts(normalize=True), y_test.value_counts(normalize=True)\n",
    "\n"
   ]
  },
  {
   "cell_type": "markdown",
   "id": "9bafcaab",
   "metadata": {},
   "source": [
    "## Análisis de la Preparación de Datos\n",
    "\n",
    "Para iniciar el modelado de redes neuronales, se cargó el conjunto de datos procesados, compuesto por 1460 registros y 77 variables. Se seleccionó como variable respuesta `PriceCategory`, que clasifica las viviendas en tres categorías: \"Económica\", \"Intermedia\" y \"Cara\". \n",
    "\n",
    "La variable de precio (`SalePrice`) y la categorización (`PriceCategory`) se eliminaron de las variables predictoras para evitar fuga de información.\n",
    "\n",
    "El conjunto de datos se dividió en un 80% para entrenamiento (1168 registros) y un 20% para prueba (292 registros), manteniendo la proporción de clases en ambos subconjuntos mediante estratificación. La distribución de clases resultante es equilibrada, con aproximadamente un 33% de registros en cada categoría, tanto en entrenamiento como en prueba.\n",
    "\n",
    "Esta preparación asegura que los modelos de redes neuronales se entrenen y evalúen en condiciones consistentes y comparables con los algoritmos implementados en entregas anteriores.\n"
   ]
  }
 ],
 "metadata": {
  "kernelspec": {
   "display_name": "Python 3",
   "language": "python",
   "name": "python3"
  },
  "language_info": {
   "codemirror_mode": {
    "name": "ipython",
    "version": 3
   },
   "file_extension": ".py",
   "mimetype": "text/x-python",
   "name": "python",
   "nbconvert_exporter": "python",
   "pygments_lexer": "ipython3",
   "version": "3.10.7"
  }
 },
 "nbformat": 4,
 "nbformat_minor": 5
}
